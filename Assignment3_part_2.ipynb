{
 "cells": [
  {
   "cell_type": "markdown",
   "metadata": {},
   "source": [
    "# Attributing promotion to sales"
   ]
  },
  {
   "cell_type": "code",
   "execution_count": 1,
   "metadata": {},
   "outputs": [
    {
     "name": "stdout",
     "output_type": "stream",
     "text": [
      "Populating the interactive namespace from numpy and matplotlib\n"
     ]
    }
   ],
   "source": [
    "# Importing the required Library\n",
    "\n",
    "%pylab inline\n",
    "import pandas as pd\n",
    "plt.style.use('ggplot')\n",
    "from scipy.optimize import minimize\n",
    "from sklearn.preprocessing import MinMaxScaler"
   ]
  },
  {
   "cell_type": "markdown",
   "metadata": {},
   "source": [
    "## Uploading the dataset"
   ]
  },
  {
   "cell_type": "markdown",
   "metadata": {},
   "source": [
    "![title](abalone.jpg) "
   ]
  },
  {
   "cell_type": "code",
   "execution_count": 2,
   "metadata": {},
   "outputs": [
    {
     "name": "stdout",
     "output_type": "stream",
     "text": [
      "Collecting smart_open\n",
      "\u001b[?25l  Downloading https://files.pythonhosted.org/packages/0c/09/735f2786dfac9bbf39d244ce75c0313d27d4962e71e0774750dc809f2395/smart_open-1.9.0.tar.gz (70kB)\n",
      "\u001b[K     |████████████████████████████████| 71kB 30.5MB/s eta 0:00:01\n",
      "\u001b[?25hRequirement already satisfied: boto>=2.32 in /home/ubuntu/anaconda3/lib/python3.7/site-packages (from smart_open) (2.49.0)\n",
      "Requirement already satisfied: requests in /home/ubuntu/anaconda3/lib/python3.7/site-packages (from smart_open) (2.22.0)\n",
      "Collecting boto3 (from smart_open)\n",
      "\u001b[?25l  Downloading https://files.pythonhosted.org/packages/1c/b2/4d1722e4605020e7668a3252bbbf70e75b923cf52a6e209366e05a95be67/boto3-1.12.16-py2.py3-none-any.whl (128kB)\n",
      "\u001b[K     |████████████████████████████████| 133kB 50.3MB/s eta 0:00:01\n",
      "\u001b[?25hRequirement already satisfied: certifi>=2017.4.17 in /home/ubuntu/anaconda3/lib/python3.7/site-packages (from requests->smart_open) (2019.9.11)\n",
      "Requirement already satisfied: urllib3!=1.25.0,!=1.25.1,<1.26,>=1.21.1 in /home/ubuntu/anaconda3/lib/python3.7/site-packages (from requests->smart_open) (1.24.2)\n",
      "Requirement already satisfied: chardet<3.1.0,>=3.0.2 in /home/ubuntu/anaconda3/lib/python3.7/site-packages (from requests->smart_open) (3.0.4)\n",
      "Requirement already satisfied: idna<2.9,>=2.5 in /home/ubuntu/anaconda3/lib/python3.7/site-packages (from requests->smart_open) (2.8)\n",
      "Collecting s3transfer<0.4.0,>=0.3.0 (from boto3->smart_open)\n",
      "\u001b[?25l  Downloading https://files.pythonhosted.org/packages/69/79/e6afb3d8b0b4e96cefbdc690f741d7dd24547ff1f94240c997a26fa908d3/s3transfer-0.3.3-py2.py3-none-any.whl (69kB)\n",
      "\u001b[K     |████████████████████████████████| 71kB 40.4MB/s eta 0:00:01\n",
      "\u001b[?25hCollecting jmespath<1.0.0,>=0.7.1 (from boto3->smart_open)\n",
      "  Downloading https://files.pythonhosted.org/packages/a3/43/1e939e1fcd87b827fe192d0c9fc25b48c5b3368902bfb913de7754b0dc03/jmespath-0.9.5-py2.py3-none-any.whl\n",
      "Collecting botocore<1.16.0,>=1.15.16 (from boto3->smart_open)\n",
      "\u001b[?25l  Downloading https://files.pythonhosted.org/packages/0d/fb/6b3e135e09ec38051d903f1ff6509309a5731e57c95dae2daeb0b70cf52c/botocore-1.15.16-py2.py3-none-any.whl (5.9MB)\n",
      "\u001b[K     |████████████████████████████████| 6.0MB 55.9MB/s eta 0:00:01\n",
      "\u001b[?25hRequirement already satisfied: docutils<0.16,>=0.10 in /home/ubuntu/anaconda3/lib/python3.7/site-packages (from botocore<1.16.0,>=1.15.16->boto3->smart_open) (0.15.2)\n",
      "Requirement already satisfied: python-dateutil<3.0.0,>=2.1 in /home/ubuntu/anaconda3/lib/python3.7/site-packages (from botocore<1.16.0,>=1.15.16->boto3->smart_open) (2.8.0)\n",
      "Requirement already satisfied: six>=1.5 in /home/ubuntu/anaconda3/lib/python3.7/site-packages (from python-dateutil<3.0.0,>=2.1->botocore<1.16.0,>=1.15.16->boto3->smart_open) (1.12.0)\n",
      "Building wheels for collected packages: smart-open\n",
      "  Building wheel for smart-open (setup.py) ... \u001b[?25ldone\n",
      "\u001b[?25h  Created wheel for smart-open: filename=smart_open-1.9.0-cp37-none-any.whl size=73088 sha256=d499228a5cc5717dfefe907dd959fdfbb603dc7b1f2a379e3ff938426efe8af0\n",
      "  Stored in directory: /home/ubuntu/.cache/pip/wheels/ab/10/93/5cff86f5b721d77edaecc29959b1c60d894be1f66d91407d28\n",
      "Successfully built smart-open\n",
      "Installing collected packages: jmespath, botocore, s3transfer, boto3, smart-open\n",
      "Successfully installed boto3-1.12.16 botocore-1.15.16 jmespath-0.9.5 s3transfer-0.3.3 smart-open-1.9.0\n",
      "Note: you may need to restart the kernel to use updated packages.\n"
     ]
    }
   ],
   "source": [
    "pip install smart_open"
   ]
  },
  {
   "cell_type": "code",
   "execution_count": 3,
   "metadata": {},
   "outputs": [
    {
     "name": "stderr",
     "output_type": "stream",
     "text": [
      "/home/ubuntu/anaconda3/lib/python3.7/site-packages/smart_open/smart_open_lib.py:402: UserWarning: This function is deprecated, use smart_open.open instead. See the migration notes for details: https://github.com/RaRe-Technologies/smart_open/blob/master/README.rst#migrating-to-the-new-open-function\n",
      "  'See the migration notes for details: %s' % _MIGRATION_NOTES_URL\n"
     ]
    }
   ],
   "source": [
    "import os\n",
    "from smart_open import smart_open\n",
    "aws_key = '*****************'\n",
    "aws_secret = '****************'\n",
    "\n",
    "bucket_name = 'abhiclass'\n",
    "object_key = 'pcb_dataset_final.tsv'\n",
    "\n",
    "path = 's3://{}:{}@{}/{}'.format(aws_key, aws_secret, bucket_name, object_key)\n",
    "\n",
    "df = pd.read_csv(smart_open(path), sep='\\t')\n",
    "df0=df"
   ]
  },
  {
   "cell_type": "code",
   "execution_count": 4,
   "metadata": {},
   "outputs": [],
   "source": [
    "# DATA_FILE='pcb_dataset_final.tsv'\n",
    "# df = pd.read_csv(DATA_FILE, sep='\\t')\n",
    "# df0=df\n",
    "\n",
    "# use this read from Compressed file\n",
    "# DATA_FILE='criteo_attribution_dataset.tsv.gz'\n",
    "# df = pd.read_csv(DATA_FILE, sep='\\t', compression='gzip')"
   ]
  },
  {
   "cell_type": "code",
   "execution_count": 5,
   "metadata": {},
   "outputs": [],
   "source": [
    "# Converting time into Days\n",
    "\n",
    "df['day'] = np.floor(df.timestamp / 86400.).astype(int)"
   ]
  },
  {
   "cell_type": "code",
   "execution_count": 6,
   "metadata": {},
   "outputs": [],
   "source": [
    "d = df.groupby(['uid']).count()\n"
   ]
  },
  {
   "cell_type": "code",
   "execution_count": 7,
   "metadata": {},
   "outputs": [],
   "source": [
    "df_converted_test = df[df['conversion'] == 1]"
   ]
  },
  {
   "cell_type": "code",
   "execution_count": 8,
   "metadata": {},
   "outputs": [
    {
     "data": {
      "text/html": [
       "<div>\n",
       "<style scoped>\n",
       "    .dataframe tbody tr th:only-of-type {\n",
       "        vertical-align: middle;\n",
       "    }\n",
       "\n",
       "    .dataframe tbody tr th {\n",
       "        vertical-align: top;\n",
       "    }\n",
       "\n",
       "    .dataframe thead th {\n",
       "        text-align: right;\n",
       "    }\n",
       "</style>\n",
       "<table border=\"1\" class=\"dataframe\">\n",
       "  <thead>\n",
       "    <tr style=\"text-align: right;\">\n",
       "      <th></th>\n",
       "      <th>timestamp</th>\n",
       "      <th>uid</th>\n",
       "      <th>campaign</th>\n",
       "      <th>conversion</th>\n",
       "      <th>conversion_timestamp</th>\n",
       "      <th>conversion_id</th>\n",
       "      <th>attribution</th>\n",
       "      <th>click</th>\n",
       "      <th>click_pos</th>\n",
       "      <th>click_nb</th>\n",
       "      <th>...</th>\n",
       "      <th>cat1</th>\n",
       "      <th>cat2</th>\n",
       "      <th>cat3</th>\n",
       "      <th>cat4</th>\n",
       "      <th>cat5</th>\n",
       "      <th>cat6</th>\n",
       "      <th>cat7</th>\n",
       "      <th>cat8</th>\n",
       "      <th>cat9</th>\n",
       "      <th>day</th>\n",
       "    </tr>\n",
       "  </thead>\n",
       "  <tbody>\n",
       "    <tr>\n",
       "      <td>5981398</td>\n",
       "      <td>939280</td>\n",
       "      <td>15040155</td>\n",
       "      <td>16184517</td>\n",
       "      <td>1</td>\n",
       "      <td>939298</td>\n",
       "      <td>3656937</td>\n",
       "      <td>1</td>\n",
       "      <td>1</td>\n",
       "      <td>0</td>\n",
       "      <td>1</td>\n",
       "      <td>...</td>\n",
       "      <td>27093701</td>\n",
       "      <td>26597095</td>\n",
       "      <td>7711526</td>\n",
       "      <td>29196072</td>\n",
       "      <td>3225250</td>\n",
       "      <td>5824238</td>\n",
       "      <td>22909613</td>\n",
       "      <td>29196072</td>\n",
       "      <td>29196072</td>\n",
       "      <td>10</td>\n",
       "    </tr>\n",
       "    <tr>\n",
       "      <td>11507489</td>\n",
       "      <td>1845813</td>\n",
       "      <td>15040155</td>\n",
       "      <td>26891650</td>\n",
       "      <td>1</td>\n",
       "      <td>3866007</td>\n",
       "      <td>20923628</td>\n",
       "      <td>0</td>\n",
       "      <td>1</td>\n",
       "      <td>0</td>\n",
       "      <td>1</td>\n",
       "      <td>...</td>\n",
       "      <td>25259032</td>\n",
       "      <td>32440046</td>\n",
       "      <td>1223615</td>\n",
       "      <td>29196072</td>\n",
       "      <td>26611395</td>\n",
       "      <td>28928366</td>\n",
       "      <td>26270263</td>\n",
       "      <td>29196072</td>\n",
       "      <td>29196072</td>\n",
       "      <td>21</td>\n",
       "    </tr>\n",
       "  </tbody>\n",
       "</table>\n",
       "<p>2 rows × 23 columns</p>\n",
       "</div>"
      ],
      "text/plain": [
       "          timestamp       uid  campaign  conversion  conversion_timestamp  \\\n",
       "5981398      939280  15040155  16184517           1                939298   \n",
       "11507489    1845813  15040155  26891650           1               3866007   \n",
       "\n",
       "          conversion_id  attribution  click  click_pos  click_nb  ...  \\\n",
       "5981398         3656937            1      1          0         1  ...   \n",
       "11507489       20923628            0      1          0         1  ...   \n",
       "\n",
       "              cat1      cat2     cat3      cat4      cat5      cat6      cat7  \\\n",
       "5981398   27093701  26597095  7711526  29196072   3225250   5824238  22909613   \n",
       "11507489  25259032  32440046  1223615  29196072  26611395  28928366  26270263   \n",
       "\n",
       "              cat8      cat9  day  \n",
       "5981398   29196072  29196072   10  \n",
       "11507489  29196072  29196072   21  \n",
       "\n",
       "[2 rows x 23 columns]"
      ]
     },
     "execution_count": 8,
     "metadata": {},
     "output_type": "execute_result"
    }
   ],
   "source": [
    "df_converted_test[df_converted_test['uid'] == 15040155]"
   ]
  },
  {
   "cell_type": "code",
   "execution_count": 9,
   "metadata": {},
   "outputs": [
    {
     "data": {
      "text/plain": [
       "<matplotlib.axes._subplots.AxesSubplot at 0x7f94914b5410>"
      ]
     },
     "execution_count": 9,
     "metadata": {},
     "output_type": "execute_result"
    },
    {
     "data": {
      "image/png": "[encoded data removed]",
      "text/plain": [
       "<Figure size 432x288 with 1 Axes>"
      ]
     },
     "metadata": {
      "needs_background": "light"
     },
     "output_type": "display_data"
    }
   ],
   "source": [
    "df.day.hist(bins=len(df.day.unique()))"
   ]
  },
  {
   "cell_type": "code",
   "execution_count": 10,
   "metadata": {},
   "outputs": [],
   "source": [
    "df['gap_click_sale'] = -1\n",
    "df.loc[df.conversion == 1, 'gap_click_sale'] = df.conversion_timestamp - df.timestamp"
   ]
  },
  {
   "cell_type": "code",
   "execution_count": 11,
   "metadata": {},
   "outputs": [],
   "source": [
    "FEATURES = ['campaign', 'cat1', 'cat2', 'cat3', 'cat4', 'cat5', 'cat6', \n",
    "            'cat7', 'cat8']\n",
    "INFOS = ['cost', 'cpo', 'time_since_last_click']"
   ]
  },
  {
   "cell_type": "code",
   "execution_count": 12,
   "metadata": {},
   "outputs": [],
   "source": [
    "def add_derived_columns(df):                               # step 1: add JID and standartize timestamps \n",
    "    df_ext = df.copy()\n",
    "    df_ext['jid'] = df_ext['uid'].map(str) + '_' + df_ext['conversion_id'].map(str)\n",
    "    \n",
    "    min_max_scaler = MinMaxScaler()\n",
    "    for cname in ('timestamp', 'time_since_last_click'):\n",
    "        x = df_ext[cname].values.reshape(-1, 1) \n",
    "        df_ext[cname + '_norm'] = min_max_scaler.fit_transform(x)\n",
    "    \n",
    "    return df_ext"
   ]
  },
  {
   "cell_type": "code",
   "execution_count": 13,
   "metadata": {},
   "outputs": [],
   "source": [
    "def sample_campaigns(df, n_campaigns):                     # step 2.1: reduce the dataset by sampling campaigns\n",
    "    campaigns = np.random.choice( df['campaign'].unique(), n_campaigns, replace = False )\n",
    "    return df[ df['campaign'].isin(campaigns) ]\n",
    "\n",
    "def filter_journeys_by_length(df, min_touchpoints):        # step 2.2: remove short (trivial) journeys\n",
    "    grouped = df.groupby(['jid'])['uid'].count().reset_index(name=\"count\")\n",
    "    return df[df['jid'].isin( grouped[grouped['count'] >= min_touchpoints]['jid'].values )]"
   ]
  },
  {
   "cell_type": "code",
   "execution_count": 14,
   "metadata": {},
   "outputs": [],
   "source": [
    "def balance_conversions(df):                               # step 3: balance the dataset: \n",
    "    df_minority = df[df.conversion == 1]                   # The number of converted and non-converted events should be equal.\n",
    "    df_majority = df[df.conversion == 0]                   # We take all converted journeys and iteratively add non-converted \n",
    "                                                           # samples until the datset is balanced. We do it this way becasue  \n",
    "    df_majority_jids = np.array_split(                     # we are trying to balance the number of events, but can add only\n",
    "          df_majority['jid'].unique(),                     # the whole journeys.\n",
    "          100 * df_majority.shape[0]/df_minority.shape[0] )\n",
    "    \n",
    "    df_majority_sampled = pd.DataFrame(data=None, columns=df.columns)\n",
    "    for jid_chunk in df_majority_jids:\n",
    "        df_majority_sampled = pd.concat([\n",
    "            df_majority_sampled, \n",
    "            df_majority[df_majority.jid.isin(jid_chunk)]\n",
    "        ])\n",
    "        if df_majority_sampled.shape[0] > df_minority.shape[0]:\n",
    "            break\n",
    "    \n",
    "    return pd.concat([df_majority_sampled, df_minority]).sample(frac=1).reset_index(drop=True)"
   ]
  },
  {
   "cell_type": "code",
   "execution_count": 15,
   "metadata": {},
   "outputs": [],
   "source": [
    "def map_one_hot(df, column_names, result_column_name):      # step 4: one-hot encoding for categorical variables\n",
    "    mapper = {}                                             # We use custom mapping becasue IDs in the orginal dataset\n",
    "    for i, col_name in enumerate(column_names):             # are not sequential, and standard one-not encoding \n",
    "        for val in df[col_name].unique():                   # provided by Keras does not handle this properly.\n",
    "            mapper[val*10 + i] = len(mapper)\n",
    "    def one_hot(values):\n",
    "        v = np.zeros( len(mapper) )\n",
    "        for i, val in enumerate(values): \n",
    "            mapped_val_id = mapper[val*10 + i]\n",
    "            v[mapped_val_id] = 1\n",
    "        return v    \n",
    "    \n",
    "    df_ext = df.copy()\n",
    "    df_ext[result_column_name] = df_ext[column_names].values.tolist()\n",
    "    df_ext[result_column_name] = df_ext[result_column_name].map(one_hot)\n",
    "    \n",
    "    return df_ext\n",
    "    \n",
    "n_campaigns = 400"
   ]
  },
  {
   "cell_type": "code",
   "execution_count": 16,
   "metadata": {},
   "outputs": [],
   "source": [
    "df1 = add_derived_columns(df0)\n",
    "df2 = sample_campaigns(df1, n_campaigns)\n",
    "df3 = filter_journeys_by_length(df2, 2)\n",
    "df4 = balance_conversions(df3)\n",
    "# all categories are mapped to one vector  \n",
    "df5 = map_one_hot(df4, ['cat1', 'cat2', 'cat3', 'cat4', 'cat5', 'cat6', 'cat8'], 'cats')\n",
    "# the final dataframe used for modeling  \n",
    "df6 = map_one_hot(df5, ['campaign'], 'campaigns').sort_values(by=['timestamp_norm'])    "
   ]
  },
  {
   "cell_type": "code",
   "execution_count": 17,
   "metadata": {},
   "outputs": [
    {
     "name": "stdout",
     "output_type": "stream",
     "text": [
      "565908\n",
      "[284210, 281698]\n"
     ]
    }
   ],
   "source": [
    "print(df6.shape[0])\n",
    "print([df6[df6.conversion == 0].shape[0], df6[df6.conversion == 1].shape[0]])"
   ]
  },
  {
   "cell_type": "code",
   "execution_count": 18,
   "metadata": {},
   "outputs": [
    {
     "data": {
      "text/plain": [
       "13"
      ]
     },
     "execution_count": 18,
     "metadata": {},
     "output_type": "execute_result"
    }
   ],
   "source": [
    "df6[df6['uid'] == 6013772]['day'].max()"
   ]
  },
  {
   "cell_type": "code",
   "execution_count": 19,
   "metadata": {},
   "outputs": [
    {
     "data": {
      "text/plain": [
       "Index(['timestamp', 'uid', 'campaign', 'conversion', 'conversion_timestamp',\n",
       "       'conversion_id', 'attribution', 'click', 'click_pos', 'click_nb',\n",
       "       'cost', 'cpo', 'time_since_last_click', 'cat1', 'cat2', 'cat3', 'cat4',\n",
       "       'cat5', 'cat6', 'cat7', 'cat8', 'cat9', 'day', 'gap_click_sale', 'jid',\n",
       "       'timestamp_norm', 'time_since_last_click_norm', 'cats', 'campaigns'],\n",
       "      dtype='object')"
      ]
     },
     "execution_count": 19,
     "metadata": {},
     "output_type": "execute_result"
    }
   ],
   "source": [
    "df6.columns"
   ]
  },
  {
   "cell_type": "code",
   "execution_count": 20,
   "metadata": {},
   "outputs": [
    {
     "data": {
      "image/png": "[encoded data removed]",
      "text/plain": [
       "<Figure size 432x288 with 1 Axes>"
      ]
     },
     "metadata": {
      "needs_background": "light"
     },
     "output_type": "display_data"
    }
   ],
   "source": [
    "# Data exploration\n",
    "def journey_lenght_histogram(df):\n",
    "    counts = df.groupby(['jid'])['uid'].count().reset_index(name=\"count\").groupby(['count']).count()\n",
    "    return counts.index, counts.values / df.shape[0]\n",
    "\n",
    "hist_x, hist_y = journey_lenght_histogram(df4)\n",
    "\n",
    "plt.plot(range(len(hist_y)), hist_y, label='all journeys')\n",
    "plt.yscale('log')\n",
    "plt.xlim(0, 120)\n",
    "plt.xlabel('Journey length (number of touchpoints)')\n",
    "plt.ylabel('Fraction of journeys')\n",
    "plt.show()"
   ]
  },
  {
   "cell_type": "markdown",
   "metadata": {},
   "source": [
    "## Last-Touch Attribution"
   ]
  },
  {
   "cell_type": "markdown",
   "metadata": {},
   "source": [
    "![title](image/lta.png) "
   ]
  },
  {
   "cell_type": "code",
   "execution_count": 21,
   "metadata": {},
   "outputs": [],
   "source": [
    "# function for last touch attribution\n",
    "def last_touch_attribution(df):\n",
    "    \n",
    "    def count_by_campaign(df):\n",
    "        counters = np.zeros(n_campaigns)\n",
    "        for campaign_one_hot in df['campaigns'].values:\n",
    "            campaign_id = np.argmax(campaign_one_hot)\n",
    "            counters[campaign_id] = counters[campaign_id] + 1\n",
    "        return counters\n",
    "        \n",
    "    campaign_impressions = count_by_campaign(df)\n",
    "    \n",
    "    df_converted = df[df['conversion'] == 1]\n",
    "    idx = df_converted.groupby(['jid'])['timestamp_norm'].transform(max) == df_converted['timestamp_norm']\n",
    "    campaign_conversions = count_by_campaign(df_converted[idx])\n",
    "        \n",
    "    return campaign_conversions / campaign_impressions\n",
    "    \n",
    "lta = last_touch_attribution(df6)\n"
   ]
  },
  {
   "cell_type": "markdown",
   "metadata": {},
   "source": [
    "## First Touch Attribution"
   ]
  },
  {
   "cell_type": "markdown",
   "metadata": {},
   "source": [
    "![title](image/fta.png) "
   ]
  },
  {
   "cell_type": "code",
   "execution_count": 22,
   "metadata": {},
   "outputs": [],
   "source": [
    "\n",
    "def first_touch_attribution(df):\n",
    "    \n",
    "    def count_by_campaign(df):\n",
    "        counters = np.zeros(n_campaigns)\n",
    "        for campaign_one_hot in df['campaigns'].values:\n",
    "            campaign_id = np.argmax(campaign_one_hot)\n",
    "            counters[campaign_id] = counters[campaign_id] + 1\n",
    "        return counters\n",
    "        \n",
    "    campaign_impressions = count_by_campaign(df)\n",
    "    \n",
    "    df_converted = df[df['conversion'] == 1]\n",
    "    idx = df_converted.groupby(['jid'])['timestamp_norm'].transform(min) == df_converted['timestamp_norm']\n",
    "    campaign_conversions = count_by_campaign(df_converted[idx])\n",
    "        \n",
    "    return campaign_conversions / campaign_impressions\n",
    "    \n",
    "fta = first_touch_attribution(df6)"
   ]
  },
  {
   "cell_type": "markdown",
   "metadata": {},
   "source": [
    "## U-shaped attribution"
   ]
  },
  {
   "cell_type": "markdown",
   "metadata": {},
   "source": [
    "![title](image/usa.png) "
   ]
  },
  {
   "cell_type": "code",
   "execution_count": 23,
   "metadata": {},
   "outputs": [],
   "source": [
    "def position_based_attribution(df):\n",
    "    \n",
    "    def count_by_campaign(df):\n",
    "        counters = np.zeros(n_campaigns)\n",
    "        for campaign_one_hot in df['campaigns'].values:\n",
    "            campaign_id = np.argmax(campaign_one_hot)\n",
    "            counters[campaign_id] = counters[campaign_id] + 1\n",
    "        return counters\n",
    "        \n",
    "    campaign_impressions = count_by_campaign(df)\n",
    "    a =2\n",
    "    df_converted = df[df['conversion'] == 1]\n",
    "    idx2 = df_converted.groupby(['jid'])['timestamp_norm'].transform(max) == df_converted['timestamp_norm']\n",
    "    idx1 = df_converted.groupby(['jid'])['timestamp_norm'].transform(min) == df_converted['timestamp_norm']\n",
    "    count_idx2 = count_by_campaign(df_converted[idx2])\n",
    "    count_idx1 = count_by_campaign(df_converted[idx1])\n",
    "    campaign_conversions =0.35* count_idx2 + 0.35*count_idx1 + 0.3*(count_by_campaign(df_converted) - count_idx2 - count_idx1)\n",
    "        \n",
    "    return campaign_conversions / campaign_impressions\n",
    "    \n",
    "pba = position_based_attribution(df6)"
   ]
  },
  {
   "cell_type": "markdown",
   "metadata": {},
   "source": [
    "## Linear Touch Attribution"
   ]
  },
  {
   "cell_type": "markdown",
   "metadata": {},
   "source": [
    "![title](image/linear.png) "
   ]
  },
  {
   "cell_type": "code",
   "execution_count": 24,
   "metadata": {},
   "outputs": [],
   "source": [
    "def linear_touch_attribution(df):\n",
    "    \n",
    "    def count_by_campaign(df):\n",
    "        counters = np.zeros(n_campaigns)\n",
    "        for campaign_one_hot in df['campaigns'].values:\n",
    "            campaign_id = np.argmax(campaign_one_hot)\n",
    "            counters[campaign_id] = counters[campaign_id] + 1\n",
    "        return counters\n",
    "        \n",
    "    campaign_impressions = count_by_campaign(df)\n",
    "    \n",
    "    df_converted = df[df['conversion'] == 1]\n",
    "    campaign_conversions = count_by_campaign(df_converted)\n",
    "        \n",
    "    return campaign_conversions / campaign_impressions\n",
    "    \n",
    "lita = linear_touch_attribution(df6)"
   ]
  },
  {
   "cell_type": "code",
   "execution_count": 25,
   "metadata": {},
   "outputs": [],
   "source": [
    "df6_max_day_dict = {}"
   ]
  },
  {
   "cell_type": "markdown",
   "metadata": {},
   "source": [
    "## Time Decay touch attribution"
   ]
  },
  {
   "cell_type": "markdown",
   "metadata": {},
   "source": [
    "![title](image/tda.png) "
   ]
  },
  {
   "cell_type": "code",
   "execution_count": 26,
   "metadata": {},
   "outputs": [],
   "source": [
    "for uid in df_converted_test['uid'].unique():\n",
    "    df6_max_day_dict[uid] = df_converted_test[df_converted_test['uid'] == uid]['day'].max()"
   ]
  },
  {
   "cell_type": "code",
   "execution_count": 27,
   "metadata": {
    "scrolled": true
   },
   "outputs": [],
   "source": [
    "def time_decay_touch_attribution(df):\n",
    "    \n",
    "    def count_by_campaign(df):\n",
    "        counters = np.zeros(n_campaigns)\n",
    "        for campaign_one_hot in df['campaigns'].values:\n",
    "            campaign_id = np.argmax(campaign_one_hot)\n",
    "            counters[campaign_id] = counters[campaign_id] + 1\n",
    "        return counters\n",
    "        \n",
    "    campaign_impressions = count_by_campaign(df)\n",
    "    \n",
    "    def count_by_timedecay_campaign(df):\n",
    "        counters = np.zeros(n_campaigns)\n",
    "        for campaign_one_hot, day, uid in zip(df['campaigns'].values, df['day'].values, df['uid'].values):\n",
    "            campaign_id = np.argmax(campaign_one_hot)\n",
    "            time_decay_coefficient = 2**(-(df6_max_day_dict[uid] - day)/7)\n",
    "            counters[campaign_id] = counters[campaign_id] + time_decay_coefficient\n",
    "        return counters\n",
    "    \n",
    "    df_converted = df[df['conversion'] == 1]\n",
    "    campaign_conversions = count_by_timedecay_campaign(df_converted)\n",
    "        \n",
    "    return campaign_conversions / campaign_impressions\n",
    "    \n",
    "tdta = time_decay_touch_attribution(df6)"
   ]
  },
  {
   "cell_type": "code",
   "execution_count": 28,
   "metadata": {},
   "outputs": [],
   "source": [
    "def features_for_logistic_regression(df):\n",
    "\n",
    "    def pairwise_max(series):\n",
    "        return np.max(series.tolist(), axis = 0).tolist()\n",
    "    \n",
    "    aggregation = {\n",
    "        'campaigns': pairwise_max,\n",
    "        'cats': pairwise_max,\n",
    "        'click': 'sum',\n",
    "        'cost': 'sum',\n",
    "        'conversion': 'max'\n",
    "    }\n",
    "    \n",
    "    df_agg = df.groupby(['jid']).agg(aggregation)\n",
    "    \n",
    "    df_agg['features'] = df_agg[['campaigns', 'cats', 'click', 'cost']].values.tolist()\n",
    "    \n",
    "    return (\n",
    "        np.stack(df_agg['features'].map(lambda x: np.hstack(x)).values),\n",
    "        df_agg['conversion'].values\n",
    "    )"
   ]
  },
  {
   "cell_type": "code",
   "execution_count": 29,
   "metadata": {},
   "outputs": [
    {
     "name": "stdout",
     "output_type": "stream",
     "text": [
      "(118792, 1564)\n"
     ]
    }
   ],
   "source": [
    "\n",
    "x, y = features_for_logistic_regression(df6)\n",
    "print(np.shape(x))"
   ]
  },
  {
   "cell_type": "code",
   "execution_count": 30,
   "metadata": {},
   "outputs": [],
   "source": [
    "from sklearn.model_selection import train_test_split\n",
    "\n",
    "x_train, x_test, y_train, y_test = train_test_split(x, y, test_size = 0.20, random_state = 1)\n",
    "x_train, x_val, y_train, y_val = train_test_split(x_train, y_train, test_size = 0.20, random_state = 1)"
   ]
  },
  {
   "cell_type": "code",
   "execution_count": 31,
   "metadata": {},
   "outputs": [
    {
     "name": "stderr",
     "output_type": "stream",
     "text": [
      "/home/ubuntu/anaconda3/lib/python3.7/site-packages/sklearn/linear_model/logistic.py:432: FutureWarning: Default solver will be changed to 'lbfgs' in 0.22. Specify a solver to silence this warning.\n",
      "  FutureWarning)\n"
     ]
    },
    {
     "name": "stdout",
     "output_type": "stream",
     "text": [
      "0.8678816448503724\n"
     ]
    }
   ],
   "source": [
    "\n",
    "# Quick sanity check\n",
    "from sklearn.linear_model import LogisticRegression\n",
    "\n",
    "logisticRegr = LogisticRegression()\n",
    "logisticRegr.fit(x_train, y_train)\n",
    "score = logisticRegr.score(x_test, y_test)\n",
    "print(score)"
   ]
  },
  {
   "cell_type": "code",
   "execution_count": 32,
   "metadata": {},
   "outputs": [
    {
     "name": "stdout",
     "output_type": "stream",
     "text": [
      "Collecting tensorflow\n",
      "\u001b[?25l  Downloading https://files.pythonhosted.org/packages/1d/56/0dbdae2a3c527a119bec0d5cf441655fe030ce1daa6fa6b9542f7dbd8664/tensorflow-2.1.0-cp37-cp37m-manylinux2010_x86_64.whl (421.8MB)\n",
      "\u001b[K     |████████████████████████████████| 421.8MB 246kB/s  eta 0:00:01\n",
      "\u001b[?25hCollecting scipy==1.4.1; python_version >= \"3\" (from tensorflow)\n",
      "\u001b[?25l  Downloading https://files.pythonhosted.org/packages/dd/82/c1fe128f3526b128cfd185580ba40d01371c5d299fcf7f77968e22dfcc2e/scipy-1.4.1-cp37-cp37m-manylinux1_x86_64.whl (26.1MB)\n",
      "\u001b[K     |████████████████████████████████| 26.1MB 44.8MB/s eta 0:00:01\n",
      "\u001b[?25hCollecting protobuf>=3.8.0 (from tensorflow)\n",
      "\u001b[?25l  Downloading https://files.pythonhosted.org/packages/ff/f1/8dcd4219bbae8aa44fe8871a89f05eca2dca9c04f8dbfed8a82b7be97a88/protobuf-3.11.3-cp37-cp37m-manylinux1_x86_64.whl (1.3MB)\n",
      "\u001b[K     |████████████████████████████████| 1.3MB 46.7MB/s eta 0:00:01\n",
      "\u001b[?25hCollecting absl-py>=0.7.0 (from tensorflow)\n",
      "\u001b[?25l  Downloading https://files.pythonhosted.org/packages/1a/53/9243c600e047bd4c3df9e69cfabc1e8004a82cac2e0c484580a78a94ba2a/absl-py-0.9.0.tar.gz (104kB)\n",
      "\u001b[K     |████████████████████████████████| 112kB 54.9MB/s eta 0:00:01\n",
      "\u001b[?25hCollecting tensorboard<2.2.0,>=2.1.0 (from tensorflow)\n",
      "\u001b[?25l  Downloading https://files.pythonhosted.org/packages/d9/41/bbf49b61370e4f4d245d4c6051dfb6db80cec672605c91b1652ac8cc3d38/tensorboard-2.1.1-py3-none-any.whl (3.8MB)\n",
      "\u001b[K     |████████████████████████████████| 3.9MB 54.2MB/s eta 0:00:01\n",
      "\u001b[?25hCollecting keras-preprocessing>=1.1.0 (from tensorflow)\n",
      "\u001b[?25l  Downloading https://files.pythonhosted.org/packages/28/6a/8c1f62c37212d9fc441a7e26736df51ce6f0e38455816445471f10da4f0a/Keras_Preprocessing-1.1.0-py2.py3-none-any.whl (41kB)\n",
      "\u001b[K     |████████████████████████████████| 51kB 31.0MB/s eta 0:00:01\n",
      "\u001b[?25hRequirement already satisfied: numpy<2.0,>=1.16.0 in /home/ubuntu/anaconda3/lib/python3.7/site-packages (from tensorflow) (1.17.2)\n",
      "Requirement already satisfied: six>=1.12.0 in /home/ubuntu/anaconda3/lib/python3.7/site-packages (from tensorflow) (1.12.0)\n",
      "Collecting termcolor>=1.1.0 (from tensorflow)\n",
      "  Downloading https://files.pythonhosted.org/packages/8a/48/a76be51647d0eb9f10e2a4511bf3ffb8cc1e6b14e9e4fab46173aa79f981/termcolor-1.1.0.tar.gz\n",
      "Collecting astor>=0.6.0 (from tensorflow)\n",
      "  Downloading https://files.pythonhosted.org/packages/c3/88/97eef84f48fa04fbd6750e62dcceafba6c63c81b7ac1420856c8dcc0a3f9/astor-0.8.1-py2.py3-none-any.whl\n",
      "Collecting gast==0.2.2 (from tensorflow)\n",
      "  Downloading https://files.pythonhosted.org/packages/4e/35/11749bf99b2d4e3cceb4d55ca22590b0d7c2c62b9de38ac4a4a7f4687421/gast-0.2.2.tar.gz\n",
      "Collecting opt-einsum>=2.3.2 (from tensorflow)\n",
      "\u001b[?25l  Downloading https://files.pythonhosted.org/packages/b2/49/2233e63052d5686c72131b579837ddfb98ba9dd0b92bb91efcb441ada8ce/opt_einsum-3.2.0-py3-none-any.whl (63kB)\n",
      "\u001b[K     |████████████████████████████████| 71kB 33.3MB/s eta 0:00:01\n",
      "\u001b[?25hCollecting keras-applications>=1.0.8 (from tensorflow)\n",
      "\u001b[?25l  Downloading https://files.pythonhosted.org/packages/71/e3/19762fdfc62877ae9102edf6342d71b28fbfd9dea3d2f96a882ce099b03f/Keras_Applications-1.0.8-py3-none-any.whl (50kB)\n",
      "\u001b[K     |████████████████████████████████| 51kB 30.7MB/s eta 0:00:01\n",
      "\u001b[?25hCollecting grpcio>=1.8.6 (from tensorflow)\n",
      "\u001b[?25l  Downloading https://files.pythonhosted.org/packages/fb/00/997acb1c16f84e6d3ede511500f54e7b7a1fdfe7b4da5a5c2d07ad4e91f1/grpcio-1.27.2-cp37-cp37m-manylinux2010_x86_64.whl (2.7MB)\n",
      "\u001b[K     |████████████████████████████████| 2.7MB 45.2MB/s eta 0:00:01\n",
      "\u001b[?25hCollecting google-pasta>=0.1.6 (from tensorflow)\n",
      "\u001b[?25l  Downloading https://files.pythonhosted.org/packages/c3/fd/1e86bc4837cc9a3a5faf3db9b1854aa04ad35b5f381f9648fbe81a6f94e4/google_pasta-0.1.8-py3-none-any.whl (57kB)\n",
      "\u001b[K     |████████████████████████████████| 61kB 33.1MB/s eta 0:00:01\n",
      "\u001b[?25hRequirement already satisfied: wheel>=0.26; python_version >= \"3\" in /home/ubuntu/anaconda3/lib/python3.7/site-packages (from tensorflow) (0.33.6)\n",
      "Requirement already satisfied: wrapt>=1.11.1 in /home/ubuntu/anaconda3/lib/python3.7/site-packages (from tensorflow) (1.11.2)\n",
      "Collecting tensorflow-estimator<2.2.0,>=2.1.0rc0 (from tensorflow)\n",
      "\u001b[?25l  Downloading https://files.pythonhosted.org/packages/18/90/b77c328a1304437ab1310b463e533fa7689f4bfc41549593056d812fab8e/tensorflow_estimator-2.1.0-py2.py3-none-any.whl (448kB)\n",
      "\u001b[K     |████████████████████████████████| 450kB 58.7MB/s eta 0:00:01\n",
      "\u001b[?25hRequirement already satisfied: setuptools in /home/ubuntu/anaconda3/lib/python3.7/site-packages (from protobuf>=3.8.0->tensorflow) (41.4.0)\n",
      "Collecting google-auth<2,>=1.6.3 (from tensorboard<2.2.0,>=2.1.0->tensorflow)\n",
      "\u001b[?25l  Downloading https://files.pythonhosted.org/packages/5a/8d/e2ebbd0502627ed0d8a408162020e1c0792f088b49fddeedaaeebc206ed7/google_auth-1.11.2-py2.py3-none-any.whl (76kB)\n",
      "\u001b[K     |████████████████████████████████| 81kB 35.3MB/s eta 0:00:01\n",
      "\u001b[?25hCollecting google-auth-oauthlib<0.5,>=0.4.1 (from tensorboard<2.2.0,>=2.1.0->tensorflow)\n",
      "  Downloading https://files.pythonhosted.org/packages/7b/b8/88def36e74bee9fce511c9519571f4e485e890093ab7442284f4ffaef60b/google_auth_oauthlib-0.4.1-py2.py3-none-any.whl\n",
      "Collecting markdown>=2.6.8 (from tensorboard<2.2.0,>=2.1.0->tensorflow)\n",
      "\u001b[?25l  Downloading https://files.pythonhosted.org/packages/ab/c4/ba46d44855e6eb1770a12edace5a165a0c6de13349f592b9036257f3c3d3/Markdown-3.2.1-py2.py3-none-any.whl (88kB)\n",
      "\u001b[K     |████████████████████████████████| 92kB 46.2MB/s eta 0:00:01\n",
      "\u001b[?25hRequirement already satisfied: werkzeug>=0.11.15 in /home/ubuntu/anaconda3/lib/python3.7/site-packages (from tensorboard<2.2.0,>=2.1.0->tensorflow) (0.16.0)\n",
      "Requirement already satisfied: requests<3,>=2.21.0 in /home/ubuntu/anaconda3/lib/python3.7/site-packages (from tensorboard<2.2.0,>=2.1.0->tensorflow) (2.22.0)\n",
      "Requirement already satisfied: h5py in /home/ubuntu/anaconda3/lib/python3.7/site-packages (from keras-applications>=1.0.8->tensorflow) (2.9.0)\n",
      "Collecting rsa<4.1,>=3.1.4 (from google-auth<2,>=1.6.3->tensorboard<2.2.0,>=2.1.0->tensorflow)\n",
      "  Downloading https://files.pythonhosted.org/packages/02/e5/38518af393f7c214357079ce67a317307936896e961e35450b70fad2a9cf/rsa-4.0-py2.py3-none-any.whl\n",
      "Collecting pyasn1-modules>=0.2.1 (from google-auth<2,>=1.6.3->tensorboard<2.2.0,>=2.1.0->tensorflow)\n",
      "\u001b[?25l  Downloading https://files.pythonhosted.org/packages/95/de/214830a981892a3e286c3794f41ae67a4495df1108c3da8a9f62159b9a9d/pyasn1_modules-0.2.8-py2.py3-none-any.whl (155kB)\n",
      "\u001b[K     |████████████████████████████████| 163kB 59.5MB/s eta 0:00:01\n",
      "\u001b[?25hCollecting cachetools<5.0,>=2.0.0 (from google-auth<2,>=1.6.3->tensorboard<2.2.0,>=2.1.0->tensorflow)\n",
      "  Downloading https://files.pythonhosted.org/packages/08/6a/abf83cb951617793fd49c98cb9456860f5df66ff89883c8660aa0672d425/cachetools-4.0.0-py3-none-any.whl\n",
      "Collecting requests-oauthlib>=0.7.0 (from google-auth-oauthlib<0.5,>=0.4.1->tensorboard<2.2.0,>=2.1.0->tensorflow)\n",
      "  Downloading https://files.pythonhosted.org/packages/a3/12/b92740d845ab62ea4edf04d2f4164d82532b5a0b03836d4d4e71c6f3d379/requests_oauthlib-1.3.0-py2.py3-none-any.whl\n",
      "Requirement already satisfied: idna<2.9,>=2.5 in /home/ubuntu/anaconda3/lib/python3.7/site-packages (from requests<3,>=2.21.0->tensorboard<2.2.0,>=2.1.0->tensorflow) (2.8)\n",
      "Requirement already satisfied: chardet<3.1.0,>=3.0.2 in /home/ubuntu/anaconda3/lib/python3.7/site-packages (from requests<3,>=2.21.0->tensorboard<2.2.0,>=2.1.0->tensorflow) (3.0.4)\n",
      "Requirement already satisfied: certifi>=2017.4.17 in /home/ubuntu/anaconda3/lib/python3.7/site-packages (from requests<3,>=2.21.0->tensorboard<2.2.0,>=2.1.0->tensorflow) (2019.9.11)\n",
      "Requirement already satisfied: urllib3!=1.25.0,!=1.25.1,<1.26,>=1.21.1 in /home/ubuntu/anaconda3/lib/python3.7/site-packages (from requests<3,>=2.21.0->tensorboard<2.2.0,>=2.1.0->tensorflow) (1.24.2)\n",
      "Collecting pyasn1>=0.1.3 (from rsa<4.1,>=3.1.4->google-auth<2,>=1.6.3->tensorboard<2.2.0,>=2.1.0->tensorflow)\n",
      "\u001b[?25l  Downloading https://files.pythonhosted.org/packages/62/1e/a94a8d635fa3ce4cfc7f506003548d0a2447ae76fd5ca53932970fe3053f/pyasn1-0.4.8-py2.py3-none-any.whl (77kB)\n",
      "\u001b[K     |████████████████████████████████| 81kB 37.6MB/s eta 0:00:01\n",
      "\u001b[?25hCollecting oauthlib>=3.0.0 (from requests-oauthlib>=0.7.0->google-auth-oauthlib<0.5,>=0.4.1->tensorboard<2.2.0,>=2.1.0->tensorflow)\n",
      "\u001b[?25l  Downloading https://files.pythonhosted.org/packages/05/57/ce2e7a8fa7c0afb54a0581b14a65b56e62b5759dbc98e80627142b8a3704/oauthlib-3.1.0-py2.py3-none-any.whl (147kB)\n",
      "\u001b[K     |████████████████████████████████| 153kB 66.0MB/s eta 0:00:01\n",
      "\u001b[?25hBuilding wheels for collected packages: absl-py, termcolor, gast\n",
      "  Building wheel for absl-py (setup.py) ... \u001b[?25ldone\n",
      "\u001b[?25h  Created wheel for absl-py: filename=absl_py-0.9.0-cp37-none-any.whl size=121932 sha256=f762a3341ddf75334b569fcf3973372d9ed70a625a06439e31a0c120c2b6c312\n",
      "  Stored in directory: /home/ubuntu/.cache/pip/wheels/8e/28/49/fad4e7f0b9a1227708cbbee4487ac8558a7334849cb81c813d\n",
      "  Building wheel for termcolor (setup.py) ... \u001b[?25ldone\n",
      "\u001b[?25h  Created wheel for termcolor: filename=termcolor-1.1.0-cp37-none-any.whl size=4832 sha256=2ab08b75bc91c4dc7e11df858aca36e407998765088898c2e1385fbc1a49ffc6\n",
      "  Stored in directory: /home/ubuntu/.cache/pip/wheels/7c/06/54/bc84598ba1daf8f970247f550b175aaaee85f68b4b0c5ab2c6\n",
      "  Building wheel for gast (setup.py) ... \u001b[?25ldone\n",
      "\u001b[?25h  Created wheel for gast: filename=gast-0.2.2-cp37-none-any.whl size=7540 sha256=8f4c684c7731c0564ba11f76c2fc1d36a4d225ccbc0af6dc98ec6736095ca2be\n",
      "  Stored in directory: /home/ubuntu/.cache/pip/wheels/5c/2e/7e/a1d4d4fcebe6c381f378ce7743a3ced3699feb89bcfbdadadd\n",
      "Successfully built absl-py termcolor gast\n",
      "Installing collected packages: scipy, protobuf, absl-py, pyasn1, rsa, pyasn1-modules, cachetools, google-auth, oauthlib, requests-oauthlib, google-auth-oauthlib, markdown, grpcio, tensorboard, keras-preprocessing, termcolor, astor, gast, opt-einsum, keras-applications, google-pasta, tensorflow-estimator, tensorflow\n",
      "  Found existing installation: scipy 1.3.1\n",
      "    Uninstalling scipy-1.3.1:\n",
      "      Successfully uninstalled scipy-1.3.1\n",
      "Successfully installed absl-py-0.9.0 astor-0.8.1 cachetools-4.0.0 gast-0.2.2 google-auth-1.11.2 google-auth-oauthlib-0.4.1 google-pasta-0.1.8 grpcio-1.27.2 keras-applications-1.0.8 keras-preprocessing-1.1.0 markdown-3.2.1 oauthlib-3.1.0 opt-einsum-3.2.0 protobuf-3.11.3 pyasn1-0.4.8 pyasn1-modules-0.2.8 requests-oauthlib-1.3.0 rsa-4.0 scipy-1.4.1 tensorboard-2.1.1 tensorflow-2.1.0 tensorflow-estimator-2.1.0 termcolor-1.1.0\n",
      "Note: you may need to restart the kernel to use updated packages.\n"
     ]
    }
   ],
   "source": [
    "pip install tensorflow"
   ]
  },
  {
   "cell_type": "code",
   "execution_count": 33,
   "metadata": {},
   "outputs": [
    {
     "name": "stdout",
     "output_type": "stream",
     "text": [
      "Collecting keras\n",
      "\u001b[?25l  Downloading https://files.pythonhosted.org/packages/ad/fd/6bfe87920d7f4fd475acd28500a42482b6b84479832bdc0fe9e589a60ceb/Keras-2.3.1-py2.py3-none-any.whl (377kB)\n",
      "\u001b[K     |████████████████████████████████| 378kB 10.1MB/s eta 0:00:01\n",
      "\u001b[?25hRequirement already satisfied: keras-applications>=1.0.6 in /home/ubuntu/anaconda3/lib/python3.7/site-packages (from keras) (1.0.8)\n",
      "Requirement already satisfied: h5py in /home/ubuntu/anaconda3/lib/python3.7/site-packages (from keras) (2.9.0)\n",
      "Requirement already satisfied: pyyaml in /home/ubuntu/anaconda3/lib/python3.7/site-packages (from keras) (5.1.2)\n",
      "Requirement already satisfied: numpy>=1.9.1 in /home/ubuntu/anaconda3/lib/python3.7/site-packages (from keras) (1.17.2)\n",
      "Requirement already satisfied: keras-preprocessing>=1.0.5 in /home/ubuntu/anaconda3/lib/python3.7/site-packages (from keras) (1.1.0)\n",
      "Requirement already satisfied: scipy>=0.14 in /home/ubuntu/anaconda3/lib/python3.7/site-packages (from keras) (1.4.1)\n",
      "Requirement already satisfied: six>=1.9.0 in /home/ubuntu/anaconda3/lib/python3.7/site-packages (from keras) (1.12.0)\n",
      "Installing collected packages: keras\n",
      "Successfully installed keras-2.3.1\n",
      "Note: you may need to restart the kernel to use updated packages.\n"
     ]
    }
   ],
   "source": [
    "pip install keras"
   ]
  },
  {
   "cell_type": "code",
   "execution_count": 34,
   "metadata": {},
   "outputs": [
    {
     "name": "stderr",
     "output_type": "stream",
     "text": [
      "Using TensorFlow backend.\n"
     ]
    },
    {
     "name": "stdout",
     "output_type": "stream",
     "text": [
      "Train on 76026 samples, validate on 19007 samples\n",
      "Epoch 1/10\n",
      "76026/76026 [==============================] - 2s 31us/step - loss: 0.5281 - accuracy: 0.7707 - val_loss: 0.4772 - val_accuracy: 0.7973\n",
      "Epoch 2/10\n",
      "76026/76026 [==============================] - 2s 25us/step - loss: 0.4508 - accuracy: 0.8127 - val_loss: 0.4439 - val_accuracy: 0.8157\n",
      "Epoch 3/10\n",
      "76026/76026 [==============================] - 2s 20us/step - loss: 0.4255 - accuracy: 0.8238 - val_loss: 0.4262 - val_accuracy: 0.8235\n",
      "Epoch 4/10\n",
      "76026/76026 [==============================] - 1s 19us/step - loss: 0.4105 - accuracy: 0.8314 - val_loss: 0.4149 - val_accuracy: 0.8295\n",
      "Epoch 5/10\n",
      "76026/76026 [==============================] - 1s 19us/step - loss: 0.4002 - accuracy: 0.8364 - val_loss: 0.4070 - val_accuracy: 0.8337\n",
      "Epoch 6/10\n",
      "76026/76026 [==============================] - 2s 24us/step - loss: 0.3926 - accuracy: 0.8403 - val_loss: 0.4005 - val_accuracy: 0.8355\n",
      "Epoch 7/10\n",
      "76026/76026 [==============================] - 2s 23us/step - loss: 0.3864 - accuracy: 0.8426 - val_loss: 0.3958 - val_accuracy: 0.8386\n",
      "Epoch 8/10\n",
      "76026/76026 [==============================] - 2s 21us/step - loss: 0.3814 - accuracy: 0.8457 - val_loss: 0.3914 - val_accuracy: 0.8403\n",
      "Epoch 9/10\n",
      "76026/76026 [==============================] - 2s 26us/step - loss: 0.3771 - accuracy: 0.8469 - val_loss: 0.3880 - val_accuracy: 0.8423\n",
      "Epoch 10/10\n",
      "76026/76026 [==============================] - 2s 22us/step - loss: 0.3735 - accuracy: 0.8485 - val_loss: 0.3855 - val_accuracy: 0.8432\n",
      "Test score: 0.37624616755999785\n",
      "Test accuracy: 0.8466686010360718\n"
     ]
    }
   ],
   "source": [
    "from keras.models import Sequential \n",
    "from keras.layers import Dense, Dropout\n",
    "from keras.constraints import NonNeg\n",
    "\n",
    "m = np.shape(x)[1]\n",
    "    \n",
    "model = Sequential()  \n",
    "model.add(Dense(1, input_dim=m, activation='sigmoid', name = 'contributions')) \n",
    "\n",
    "model.compile(optimizer='rmsprop', loss='binary_crossentropy', metrics=['accuracy']) \n",
    "history = model.fit(x_train, y_train, batch_size=128, epochs=10, verbose=1, validation_data=(x_val, y_val)) \n",
    "score = model.evaluate(x_test, y_test, verbose=0) \n",
    "print('Test score:', score[0]) \n",
    "print('Test accuracy:', score[1])"
   ]
  },
  {
   "cell_type": "code",
   "execution_count": 35,
   "metadata": {},
   "outputs": [
    {
     "data": {
      "image/png": "[encoded data removed]",
      "text/plain": [
       "<Figure size 1080x288 with 1 Axes>"
      ]
     },
     "metadata": {
      "needs_background": "light"
     },
     "output_type": "display_data"
    }
   ],
   "source": [
    "campaign_idx = range(150, 200)\n",
    "\n",
    "# Visualization of the attribution scores\n",
    "from sklearn.utils.extmath import softmax\n",
    "\n",
    "keras_logreg = model.get_layer('contributions').get_weights()[0].flatten()[0:n_campaigns]\n",
    "keras_logreg = softmax([keras_logreg]).flatten()\n",
    "\n",
    "fig = plt.figure(figsize=(15,4))\n",
    "ax = fig.add_subplot(111)\n",
    "plt.bar(range(len(keras_logreg[campaign_idx])), keras_logreg[campaign_idx] )\n",
    "plt.xlabel('Campaign ID')\n",
    "plt.ylabel('Return per impression')\n",
    "plt.show()"
   ]
  },
  {
   "cell_type": "markdown",
   "metadata": {},
   "source": [
    "## LSTM"
   ]
  },
  {
   "cell_type": "code",
   "execution_count": 36,
   "metadata": {},
   "outputs": [
    {
     "name": "stdout",
     "output_type": "stream",
     "text": [
      "(118792, 15, 1566)\n"
     ]
    }
   ],
   "source": [
    "def features_for_lstm(df, max_touchpoints):\n",
    "    \n",
    "    df_proj = df[['jid', 'campaigns', 'cats', 'click', 'cost', 'time_since_last_click_norm', 'timestamp_norm', 'conversion']]\n",
    "    \n",
    "    x2d = df_proj.values\n",
    "    \n",
    "    x3d_list = np.split(x2d[:, 1:], np.cumsum(np.unique(x2d[:, 0], return_counts=True)[1])[:-1])\n",
    "    \n",
    "    x3d = []\n",
    "    y = []\n",
    "    for xi in x3d_list:\n",
    "        journey_matrix = np.apply_along_axis(np.hstack, 1, xi)\n",
    "        journey_matrix = journey_matrix[ journey_matrix[:, 5].argsort() ] # sort impressions by timestamp\n",
    "        n_touchpoints = len(journey_matrix)\n",
    "        padded_journey = []\n",
    "        if(n_touchpoints >= max_touchpoints):\n",
    "            padded_journey = journey_matrix[0:max_touchpoints]\n",
    "        else:\n",
    "            padded_journey = np.pad(journey_matrix, ((0, max_touchpoints - n_touchpoints), (0, 0)), 'constant', constant_values=(0))\n",
    "            \n",
    "        x3d.append(padded_journey[:, 0:-1])\n",
    "        y.append(np.max(padded_journey[:, -1]))\n",
    "        \n",
    "    return np.stack(x3d), y\n",
    "\n",
    "x, y = features_for_lstm(df6, max_touchpoints = 15)\n",
    "print(np.shape(x))\n",
    "\n",
    "x_train, x_test, y_train, y_test = train_test_split(x, y, test_size = 0.20, random_state = 1)\n",
    "x_train, x_val, y_train, y_val = train_test_split(x_train, y_train, test_size = 0.20, random_state = 1)"
   ]
  },
  {
   "cell_type": "code",
   "execution_count": 37,
   "metadata": {},
   "outputs": [
    {
     "name": "stdout",
     "output_type": "stream",
     "text": [
      "Train on 76026 samples, validate on 19007 samples\n",
      "Epoch 1/5\n",
      "76026/76026 [==============================] - 41s 538us/step - loss: 0.3231 - accuracy: 0.8559 - val_loss: 0.2674 - val_accuracy: 0.8838\n",
      "Epoch 2/5\n",
      "76026/76026 [==============================] - 40s 523us/step - loss: 0.3027 - accuracy: 0.8657 - val_loss: 0.2610 - val_accuracy: 0.8859\n",
      "Epoch 3/5\n",
      "76026/76026 [==============================] - 38s 502us/step - loss: 0.2969 - accuracy: 0.8686 - val_loss: 0.2608 - val_accuracy: 0.8864\n",
      "Epoch 4/5\n",
      "76026/76026 [==============================] - 38s 504us/step - loss: 0.2926 - accuracy: 0.8695 - val_loss: 0.2583 - val_accuracy: 0.8870\n",
      "Epoch 5/5\n",
      "76026/76026 [==============================] - 38s 504us/step - loss: 0.2889 - accuracy: 0.8722 - val_loss: 0.2569 - val_accuracy: 0.8881\n",
      "Test score: 0.24908154771366003\n",
      "Test accuracy: 0.8905256986618042\n"
     ]
    }
   ],
   "source": [
    "from keras.models import Sequential \n",
    "from keras.layers import Dense, LSTM\n",
    "\n",
    "n_steps, n_features = np.shape(x)[1:3]\n",
    "    \n",
    "model = Sequential() \n",
    "model.add(LSTM(64, dropout=0.2, recurrent_dropout=0.2, input_shape=(n_steps, n_features)))\n",
    "model.add(Dense(1, activation='sigmoid')) \n",
    "\n",
    "model.compile(optimizer='rmsprop', loss='binary_crossentropy', metrics=['accuracy']) \n",
    "history = model.fit(x_train, y_train, batch_size=64, epochs=5, verbose=1, validation_data=(x_val, y_val)) \n",
    "score = model.evaluate(x_test, y_test, verbose=0) \n",
    "print('Test score:', score[0]) \n",
    "print('Test accuracy:', score[1])"
   ]
  },
  {
   "cell_type": "code",
   "execution_count": 38,
   "metadata": {},
   "outputs": [
    {
     "name": "stdout",
     "output_type": "stream",
     "text": [
      "Train on 76026 samples, validate on 19007 samples\n",
      "Epoch 1/5\n",
      "76026/76026 [==============================] - 42s 554us/step - loss: 0.2358 - accuracy: 0.9000 - val_loss: 0.2158 - val_accuracy: 0.9086\n",
      "Epoch 2/5\n",
      "76026/76026 [==============================] - 40s 529us/step - loss: 0.2086 - accuracy: 0.9123 - val_loss: 0.2051 - val_accuracy: 0.9131\n",
      "Epoch 3/5\n",
      "76026/76026 [==============================] - 40s 527us/step - loss: 0.1961 - accuracy: 0.9178 - val_loss: 0.2019 - val_accuracy: 0.9169\n",
      "Epoch 4/5\n",
      "76026/76026 [==============================] - 40s 526us/step - loss: 0.1916 - accuracy: 0.9201 - val_loss: 0.1991 - val_accuracy: 0.9168\n",
      "Epoch 5/5\n",
      "76026/76026 [==============================] - 40s 521us/step - loss: 0.1883 - accuracy: 0.9217 - val_loss: 0.1974 - val_accuracy: 0.9170\n",
      "Test score: 0.1865552863642919\n",
      "Test accuracy: 0.9220085144042969\n"
     ]
    }
   ],
   "source": [
    "from keras.models import Sequential \n",
    "from keras.layers import Dense, LSTM, Input, Lambda, RepeatVector, Permute, Flatten, Activation, Multiply\n",
    "from keras.constraints import NonNeg\n",
    "from keras import backend as K\n",
    "from keras.models import Model\n",
    "\n",
    "n_steps, n_features = np.shape(x)[1:3]\n",
    "\n",
    "hidden_units = 64\n",
    "\n",
    "main_input = Input(shape=(n_steps, n_features))\n",
    "    \n",
    "embeddings = Dense(128, activation='linear', input_shape=(n_steps, n_features))(main_input)\n",
    "\n",
    "activations = LSTM(hidden_units, dropout=0.2, recurrent_dropout=0.2, return_sequences=True)(embeddings)\n",
    "\n",
    "attention = Dense(1, activation='tanh')(activations)\n",
    "attention = Flatten()(attention)\n",
    "attention = Activation('softmax', name = 'attention_weigths')(attention)\n",
    "attention = RepeatVector(hidden_units * 1)(attention)\n",
    "attention = Permute([2, 1])(attention)\n",
    "\n",
    "weighted_activations = Multiply()([activations, attention])\n",
    "weighted_activations = Lambda(lambda xin: K.sum(xin, axis=-2), output_shape=(hidden_units,))(weighted_activations)\n",
    "\n",
    "main_output = Dense(1, activation='sigmoid')(weighted_activations)\n",
    "\n",
    "model = Model(inputs=main_input, outputs=main_output)\n",
    "\n",
    "model.compile(optimizer='rmsprop', loss='binary_crossentropy', metrics=['accuracy']) \n",
    "history = model.fit(x_train, y_train, batch_size=64, epochs=5, verbose=1, validation_data=(x_val, y_val)) \n",
    "score = model.evaluate(x_test, y_test, verbose=0) \n",
    "print('Test score:', score[0]) \n",
    "print('Test accuracy:', score[1])"
   ]
  },
  {
   "cell_type": "code",
   "execution_count": 39,
   "metadata": {},
   "outputs": [],
   "source": [
    "def get_campaign_id(x_journey_step):\n",
    "    return np.argmax(x_journey_step[0:n_campaigns])\n",
    "\n",
    "attention_model = Model(inputs=model.input, outputs=model.get_layer('attention_weigths').output)\n",
    "\n",
    "a = attention_model.predict(x_train)\n",
    "\n",
    "attributions = np.zeros(n_campaigns)\n",
    "campaign_freq = np.ones(n_campaigns)\n",
    "for i, journey in enumerate(a):\n",
    "    for step, step_contribution in enumerate(journey):\n",
    "        if(np.sum(x_train[i][step]) > 0):\n",
    "            campaign_id = get_campaign_id(x_train[i][step])\n",
    "            attributions[campaign_id] = attributions[campaign_id] + step_contribution\n",
    "            campaign_freq[campaign_id] = campaign_freq[campaign_id] + 1"
   ]
  },
  {
   "cell_type": "code",
   "execution_count": 40,
   "metadata": {},
   "outputs": [
    {
     "data": {
      "image/png": "[encoded data removed]",
      "text/plain": [
       "<Figure size 1080x288 with 1 Axes>"
      ]
     },
     "metadata": {
      "needs_background": "light"
     },
     "output_type": "display_data"
    }
   ],
   "source": [
    "lstm_a = (attributions/campaign_freq)\n",
    "\n",
    "fig = plt.figure(figsize=(15, 4))\n",
    "ax = fig.add_subplot(111)\n",
    "plt.bar( range(len(lstm_a[campaign_idx])), lstm_a[campaign_idx], label='LSTM-A' )\n",
    "plt.xlabel('Campaign ID')\n",
    "plt.ylabel('Contribution')\n",
    "plt.legend(loc='upper left')\n",
    "plt.show()"
   ]
  },
  {
   "cell_type": "code",
   "execution_count": 43,
   "metadata": {},
   "outputs": [
    {
     "data": {
      "image/png": "[encoded data removed]",
      "text/plain": [
       "<Figure size 1080x288 with 1 Axes>"
      ]
     },
     "metadata": {
      "needs_background": "light"
     },
     "output_type": "display_data"
    }
   ],
   "source": [
    "# Visualization of the attribution scores\n",
    "\n",
    "campaign_idx = range(150, 200)\n",
    "\n",
    "fig = plt.figure(figsize=(15,4))\n",
    "ax = fig.add_subplot(111)\n",
    "plt.bar( range(len(lta[campaign_idx])), lta[campaign_idx], label='LTA' )\n",
    "plt.xlabel('Campaign ID')\n",
    "plt.ylabel('Return per impression')\n",
    "plt.legend(loc='upper left')\n",
    "plt.show()"
   ]
  },
  {
   "cell_type": "code",
   "execution_count": 44,
   "metadata": {},
   "outputs": [],
   "source": [
    "from matplotlib.pylab import plt\n"
   ]
  },
  {
   "cell_type": "code",
   "execution_count": 46,
   "metadata": {},
   "outputs": [
    {
     "data": {
      "image/png": "[encoded data removed]",
      "text/plain": [
       "<Figure size 1080x288 with 1 Axes>"
      ]
     },
     "metadata": {
      "needs_background": "light"
     },
     "output_type": "display_data"
    }
   ],
   "source": [
    "# Visualization of the attribution scores\n",
    "\n",
    "campaign_idx = range(150, 200)\n",
    "\n",
    "fig = plt.figure(figsize=(15,4))\n",
    "ax = fig.add_subplot(111)\n",
    "plt.bar( range(len(fta[campaign_idx])), fta[campaign_idx], label='FTA' )\n",
    "plt.xlabel('Campaign ID')\n",
    "plt.ylabel('Return per impression')\n",
    "plt.legend(loc='upper left')\n",
    "plt.show()"
   ]
  },
  {
   "cell_type": "code",
   "execution_count": 47,
   "metadata": {},
   "outputs": [
    {
     "data": {
      "image/png": "[encoded data removed]",
      "text/plain": [
       "<Figure size 1080x288 with 1 Axes>"
      ]
     },
     "metadata": {
      "needs_background": "light"
     },
     "output_type": "display_data"
    }
   ],
   "source": [
    "# Visualization of the attribution scores\n",
    "\n",
    "campaign_idx = range(150, 200)\n",
    "\n",
    "fig = plt.figure(figsize=(15,4))\n",
    "ax = fig.add_subplot(111)\n",
    "plt.bar( range(len(lita[campaign_idx])), lita[campaign_idx], label='lita' )\n",
    "plt.xlabel('Campaign ID')\n",
    "plt.ylabel('Return per impression')\n",
    "plt.legend(loc='upper left')\n",
    "plt.show()"
   ]
  },
  {
   "cell_type": "code",
   "execution_count": 48,
   "metadata": {},
   "outputs": [
    {
     "data": {
      "image/png": "[encoded data removed]",
      "text/plain": [
       "<Figure size 1080x288 with 1 Axes>"
      ]
     },
     "metadata": {
      "needs_background": "light"
     },
     "output_type": "display_data"
    }
   ],
   "source": [
    "# Visualization of the attribution scores\n",
    "\n",
    "campaign_idx = range(150, 200)\n",
    "\n",
    "fig = plt.figure(figsize=(15,4))\n",
    "ax = fig.add_subplot(111)\n",
    "plt.bar( range(len(pba[campaign_idx])), pba[campaign_idx], label='pba' )\n",
    "plt.xlabel('Campaign ID')\n",
    "plt.ylabel('Return per impression')\n",
    "plt.legend(loc='upper left')\n",
    "plt.show()"
   ]
  },
  {
   "cell_type": "code",
   "execution_count": 52,
   "metadata": {},
   "outputs": [
    {
     "data": {
      "image/png": "[encoded data removed]",
      "text/plain": [
       "<Figure size 1080x288 with 1 Axes>"
      ]
     },
     "metadata": {
      "needs_background": "light"
     },
     "output_type": "display_data"
    }
   ],
   "source": [
    "campaign_idx = range(100, 150)\n",
    "\n",
    "fig = plt.figure(figsize=(15,4))\n",
    "ax = fig.add_subplot(111)\n",
    "plt.plot( range(len(tdta[campaign_idx])), tdta[campaign_idx], label='tdta' )\n",
    "plt.plot( range(len(pba[campaign_idx])), pba[campaign_idx], label='pba' )\n",
    "plt.plot( range(len(lita[campaign_idx])), lita[campaign_idx], label='lita' )\n",
    "plt.plot( range(len(fta[campaign_idx])), fta[campaign_idx], label='FTA' )\n",
    "plt.plot( range(len(lta[campaign_idx])), lta[campaign_idx], label='LTA' )\n",
    "plt.plot( range(len(keras_logreg[campaign_idx])), keras_logreg[campaign_idx], label='keras_logreg' )\n",
    "plt.plot( range(len(lstm_a[campaign_idx])), lstm_a[campaign_idx], label='lstm_a' )\n",
    "plt.xlabel('Campaign ID')\n",
    "\n",
    "plt.legend(loc='upper left')\n",
    "plt.show()"
   ]
  },
  {
   "cell_type": "code",
   "execution_count": 53,
   "metadata": {},
   "outputs": [],
   "source": [
    "def get_campaign_id(x_journey_step):\n",
    "    return np.argmax(x_journey_step[0:n_campaigns])"
   ]
  },
  {
   "cell_type": "code",
   "execution_count": 54,
   "metadata": {},
   "outputs": [],
   "source": [
    "# Key assumption: If one of the campaigns in a journey runs out of budget, \n",
    "# then the conversion reward is fully lost for the entire journey\n",
    "# including both past and future campaigns\n",
    "\n",
    "def simulate_budget_roi(df, budget_total, attribution, verbose=False):\n",
    "    budgets = np.ceil(attribution * (budget_total / np.sum(attribution)))\n",
    "    \n",
    "    if(verbose):\n",
    "        print(budgets)\n",
    "    \n",
    "    blacklist = set()\n",
    "    conversions = set()\n",
    "    for i in range(df.shape[0]):\n",
    "        campaign_id = get_campaign_id(df.loc[i]['campaigns']) \n",
    "        jid = df.loc[i]['jid']\n",
    "        if jid not in blacklist:\n",
    "            if budgets[campaign_id] >= 1:\n",
    "                budgets[campaign_id] = budgets[campaign_id] - 1\n",
    "                if(df.loc[i]['conversion'] == 1):\n",
    "                    conversions.add(jid)\n",
    "            else:\n",
    "                blacklist.add(jid)\n",
    "        \n",
    "        if(verbose): \n",
    "            if(i % 10000 == 0):\n",
    "                print('{:.2%} : {:.2%} budget spent'.format(i/df.shape[0], 1.0 - np.sum(budgets)/budget_total ))\n",
    "        \n",
    "        if(np.sum(budgets) < budget_total * 0.02):\n",
    "            break\n",
    "            \n",
    "    return len(conversions.difference(blacklist))"
   ]
  },
  {
   "cell_type": "code",
   "execution_count": null,
   "metadata": {},
   "outputs": [
    {
     "name": "stdout",
     "output_type": "stream",
     "text": [
      "0 0 : 1324\n",
      "0 1 : 1324\n",
      "0 2 : 1370\n",
      "0 3 : 1372\n",
      "0 4 : 1388\n",
      "0 5 : 1074\n",
      "0 6 : 1156\n",
      "1 0 : 1151\n",
      "1 1 : 1151\n"
     ]
    }
   ],
   "source": [
    "pitches = [0.1, 0.25, 0.5, 1.0, 1.5, 2.0, 2.5, 3.0]\n",
    "attributions = [lta, fta, pba,tdta,lita,keras_logreg, lstm_a]\n",
    "attr_name = [\"lta\", \"fta\", \"pba\", \"tdta\", \"lita\",\"keras_logreg\", \"lstm_a\"]\n",
    "budget_roi = pd.DataFrame(columns=[\"pitch\", \"lta\", \"pba\", \"lita\", \"tdta\", \"fta\",\"keras_logreg\", \"lstm_a\"], index=np.arange(len(pitches)))\n",
    "for i, pitch in enumerate(pitches):\n",
    "    budget_roi[\"pitch\"].loc[i] = pitch\n",
    "    for j, (attribution, attr_n) in enumerate(zip(attributions, attr_name)):\n",
    "        reward = simulate_budget_roi(df6, 10000, attribution**pitch)\n",
    "        budget_roi[attr_n].loc[i] = reward\n",
    "        print('{} {} : {}'.format(i, j, reward))"
   ]
  },
  {
   "cell_type": "code",
   "execution_count": null,
   "metadata": {},
   "outputs": [],
   "source": [
    "import param\n",
    "class Gapminder(param.Parameterized):\n",
    "    pitch = param.ObjectSelector(objects=list(budget_roi.pitch.unique()),default=0.1)\n",
    "    show_legend = param.Boolean(default=True)\n",
    "\n",
    "    ylim = (0.0, 2000,250)\n",
    "    xlim = (0.0, 3.0,0.25) \n",
    "\n",
    "\n",
    "    def get_data(self):\n",
    "        df = budget_roi[(budget_roi.pitch==self.pitch)].copy()\n",
    "        return df\n",
    "    \n",
    "    def get_clusters(self):\n",
    "        print(x)\n",
    "        data  = self.get_data()\n",
    "        print(data)\n",
    "        plot  = data.hvplot.bar('pitch',\n",
    "                  logx=True, width=700, height=350, legend=self.show_legend)\n",
    "\n",
    "        return (plot)\n",
    "    \n",
    "gm = Gapminder(name='')\n",
    "\n",
    "pn.Column(gm.param,\n",
    "          pn.Row(gm.get_clusters))"
   ]
  },
  {
   "cell_type": "code",
   "execution_count": null,
   "metadata": {},
   "outputs": [],
   "source": [
    "df = budget_roi"
   ]
  },
  {
   "cell_type": "code",
   "execution_count": null,
   "metadata": {},
   "outputs": [],
   "source": [
    "from io import StringIO # python3; python2: BytesIO \n",
    "import boto3\n",
    "\n",
    "bucket = 'abhiadm' # already created on S3\n",
    "csv_buffer = StringIO()\n",
    "df.to_csv(csv_buffer)\n",
    "s3_resource = boto3.resource('s3', aws_access_key_id='xxxxxxxxxxxx', aws_secret_access_key='xxxxxxxxxxxxx')\n",
    "s3_resource.Object(bucket, 'df.csv').put(Body=csv_buffer.getvalue())"
   ]
  }
 ],
 "metadata": {
  "kernelspec": {
   "display_name": "Python 3",
   "language": "python",
   "name": "python3"
  },
  "language_info": {
   "codemirror_mode": {
    "name": "ipython",
    "version": 3
   },
   "file_extension": ".py",
   "mimetype": "text/x-python",
   "name": "python",
   "nbconvert_exporter": "python",
   "pygments_lexer": "ipython3",
   "version": "3.7.4"
  }
 },
 "nbformat": 4,
 "nbformat_minor": 2
}
